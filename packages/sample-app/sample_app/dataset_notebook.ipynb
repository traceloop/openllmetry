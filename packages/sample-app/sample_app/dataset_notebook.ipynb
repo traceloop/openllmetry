{
 "cells": [
  {
   "cell_type": "code",
   "execution_count": null,
   "id": "89bf3ed7-936f-496f-893b-a01f0532424a",
   "metadata": {},
   "outputs": [],
   "source": [
    "import os\n",
    "import tempfile\n",
    "from traceloop.sdk import Traceloop\n",
    "from traceloop.sdk.datasets import Dataset, ColumnType\n",
    "import pandas as pd"
   ]
  },
  {
   "cell_type": "code",
   "execution_count": null,
   "id": "81b79024-3a5a-4c7a-b31d-c7a618adf3dc",
   "metadata": {},
   "outputs": [],
   "source": []
  }
 ],
 "metadata": {
  "kernelspec": {
   "display_name": "Python 3 (ipykernel)",
   "language": "python",
   "name": "python3"
  },
  "language_info": {
   "codemirror_mode": {
    "name": "ipython",
    "version": 3
   },
   "file_extension": ".py",
   "mimetype": "text/x-python",
   "name": "python",
   "nbconvert_exporter": "python",
   "pygments_lexer": "ipython3",
   "version": "3.13.3"
  }
 },
 "nbformat": 4,
 "nbformat_minor": 5
}
